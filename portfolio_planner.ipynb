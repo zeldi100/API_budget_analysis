{
 "cells": [
  {
   "cell_type": "markdown",
   "metadata": {},
   "source": [
    "# Retirement Planner\n",
    "\n",
    "---\n",
    "\n",
    "## Environment Setup"
   ]
  },
  {
   "cell_type": "code",
   "execution_count": 47,
   "metadata": {},
   "outputs": [],
   "source": [
    "# Import libraries and dependencies\n",
    "import numpy as np\n",
    "import pandas as pd\n",
    "import os\n",
    "from datetime import datetime, timedelta\n",
    "import matplotlib.pyplot as plt\n",
    "import alpaca_trade_api as tradeapi\n",
    "%matplotlib inline"
   ]
  },
  {
   "cell_type": "code",
   "execution_count": 48,
   "metadata": {},
   "outputs": [],
   "source": [
    "# Set the random seed for resutls reproducibility (for testing purposes only)\n",
    "np.random.seed(42)"
   ]
  },
  {
   "cell_type": "markdown",
   "metadata": {},
   "source": [
    "---\n",
    "\n",
    "## Portfolio Planner\n",
    "\n",
    "In this activity, you will use the Alpaca API to grab historical data for a `60/40` portfolio using `SPY` to represent the stock portion and `AGG` to represent the bonds."
   ]
  },
  {
   "cell_type": "code",
   "execution_count": 49,
   "metadata": {},
   "outputs": [],
   "source": [
    "# Load .env enviroment variables\n",
    "from dotenv import load_dotenv\n",
    "load_dotenv()\n",
    "\n",
    "# Set Alpaca API key and secret\n",
    "alpaca_api_key = os.getenv(\"ALPACA_API_KEY\")\n",
    "alpaca_secret_key = os.getenv(\"ALPACA_SECRET_KEY\")\n",
    "\n",
    "# Create the Alpaca API object\n",
    "api = tradeapi.REST(\n",
    "    alpaca_api_key,\n",
    "    alpaca_secret_key,\n",
    "    api_version=\"v2\")"
   ]
  },
  {
   "cell_type": "markdown",
   "metadata": {},
   "source": [
    "# Data Collection\n",
    "\n",
    "In this step, you will need to use the Alpaca api to fetch closing prices for the `SPY` and `AGG` tickers. Save the results as a pandas DataFrame"
   ]
  },
  {
   "cell_type": "code",
   "execution_count": 50,
   "metadata": {},
   "outputs": [],
   "source": [
    "# Subset your tickers, then pull returns data:\n",
    "# Set the ticker\n",
    "ticker = [\"SPY\", \"AGG\"]\n",
    "\n",
    "# Set timeframe to '1D'\n",
    "timeframe = \"1D\"\n",
    "\n",
    "# Set start and end datetimes of 1 year, between now and 365 days ago.\n",
    "start_date = pd.Timestamp('2019-01-01', tz='America/New_York').isoformat()\n",
    "end_date = pd.Timestamp('2019-12-31', tz='America/New_York').isoformat()\n",
    "\n",
    "# Get 1 year's worth of historical data for SPY and AGG\n",
    "df = api.get_barset(\n",
    "    ticker,\n",
    "    timeframe,\n",
    "    limit=None,\n",
    "    start=start_date,\n",
    "    end=end_date,\n",
    "    after=None,\n",
    "    until=None,\n",
    ").df\n",
    "\n",
    "# Drop unnecessary columns\n",
    "df = df.drop(\n",
    "    columns=['open', 'high', 'low', 'volume'],\n",
    "    level=1\n",
    ")"
   ]
  },
  {
   "cell_type": "code",
   "execution_count": 51,
   "metadata": {},
   "outputs": [
    {
     "data": {
      "text/html": [
       "<div>\n",
       "<style scoped>\n",
       "    .dataframe tbody tr th:only-of-type {\n",
       "        vertical-align: middle;\n",
       "    }\n",
       "\n",
       "    .dataframe tbody tr th {\n",
       "        vertical-align: top;\n",
       "    }\n",
       "\n",
       "    .dataframe thead tr th {\n",
       "        text-align: left;\n",
       "    }\n",
       "\n",
       "    .dataframe thead tr:last-of-type th {\n",
       "        text-align: right;\n",
       "    }\n",
       "</style>\n",
       "<table border=\"1\" class=\"dataframe\">\n",
       "  <thead>\n",
       "    <tr>\n",
       "      <th></th>\n",
       "      <th>AGG</th>\n",
       "      <th>SPY</th>\n",
       "    </tr>\n",
       "    <tr>\n",
       "      <th></th>\n",
       "      <th>close</th>\n",
       "      <th>close</th>\n",
       "    </tr>\n",
       "    <tr>\n",
       "      <th>time</th>\n",
       "      <th></th>\n",
       "      <th></th>\n",
       "    </tr>\n",
       "  </thead>\n",
       "  <tbody>\n",
       "    <tr>\n",
       "      <th>2019-01-02 00:00:00-05:00</th>\n",
       "      <td>106.585</td>\n",
       "      <td>249.89</td>\n",
       "    </tr>\n",
       "    <tr>\n",
       "      <th>2019-01-03 00:00:00-05:00</th>\n",
       "      <td>107.020</td>\n",
       "      <td>244.46</td>\n",
       "    </tr>\n",
       "    <tr>\n",
       "      <th>2019-01-04 00:00:00-05:00</th>\n",
       "      <td>106.695</td>\n",
       "      <td>252.41</td>\n",
       "    </tr>\n",
       "    <tr>\n",
       "      <th>2019-01-07 00:00:00-05:00</th>\n",
       "      <td>106.470</td>\n",
       "      <td>254.40</td>\n",
       "    </tr>\n",
       "    <tr>\n",
       "      <th>2019-01-08 00:00:00-05:00</th>\n",
       "      <td>106.420</td>\n",
       "      <td>256.65</td>\n",
       "    </tr>\n",
       "  </tbody>\n",
       "</table>\n",
       "</div>"
      ],
      "text/plain": [
       "                               AGG     SPY\n",
       "                             close   close\n",
       "time                                      \n",
       "2019-01-02 00:00:00-05:00  106.585  249.89\n",
       "2019-01-03 00:00:00-05:00  107.020  244.46\n",
       "2019-01-04 00:00:00-05:00  106.695  252.41\n",
       "2019-01-07 00:00:00-05:00  106.470  254.40\n",
       "2019-01-08 00:00:00-05:00  106.420  256.65"
      ]
     },
     "execution_count": 51,
     "metadata": {},
     "output_type": "execute_result"
    }
   ],
   "source": [
    "# Display sample data\n",
    "df.head()"
   ]
  },
  {
   "cell_type": "markdown",
   "metadata": {},
   "source": [
    "---\n",
    "\n",
    "## Monte Carlo Simulation\n",
    "\n",
    "In this step, you will run Monte Carlo Simulations for your portfolio to model portfolio performance at different retirement ages. \n",
    "\n",
    "Complete the following steps:\n",
    "\n",
    "1. Calculate the daily returns for the SPY and AGG closing prices.\n",
    "\n",
    "2. Calculate volatility for both the SPY and AGG closing prices.\n",
    "\n",
    "3. Find the last day's closing price for both stocks and save those as variables\n",
    "\n",
    "4. Run a Monte Carlo Simulation of at least `100` iterations and generate at least `30` years of closing prices\n",
    "\n",
    "**Hint:** There are `252` trading days per year, so the number of records to generate for each Monte Carlo run will be `252 days * 30 years`."
   ]
  },
  {
   "cell_type": "code",
   "execution_count": 52,
   "metadata": {},
   "outputs": [
    {
     "data": {
      "text/html": [
       "<div>\n",
       "<style scoped>\n",
       "    .dataframe tbody tr th:only-of-type {\n",
       "        vertical-align: middle;\n",
       "    }\n",
       "\n",
       "    .dataframe tbody tr th {\n",
       "        vertical-align: top;\n",
       "    }\n",
       "\n",
       "    .dataframe thead tr th {\n",
       "        text-align: left;\n",
       "    }\n",
       "\n",
       "    .dataframe thead tr:last-of-type th {\n",
       "        text-align: right;\n",
       "    }\n",
       "</style>\n",
       "<table border=\"1\" class=\"dataframe\">\n",
       "  <thead>\n",
       "    <tr>\n",
       "      <th></th>\n",
       "      <th>AGG</th>\n",
       "      <th>SPY</th>\n",
       "    </tr>\n",
       "    <tr>\n",
       "      <th></th>\n",
       "      <th>close</th>\n",
       "      <th>close</th>\n",
       "    </tr>\n",
       "    <tr>\n",
       "      <th>time</th>\n",
       "      <th></th>\n",
       "      <th></th>\n",
       "    </tr>\n",
       "  </thead>\n",
       "  <tbody>\n",
       "    <tr>\n",
       "      <th>2019-01-02 00:00:00-05:00</th>\n",
       "      <td>NaN</td>\n",
       "      <td>NaN</td>\n",
       "    </tr>\n",
       "    <tr>\n",
       "      <th>2019-01-03 00:00:00-05:00</th>\n",
       "      <td>0.004081</td>\n",
       "      <td>-0.021730</td>\n",
       "    </tr>\n",
       "    <tr>\n",
       "      <th>2019-01-04 00:00:00-05:00</th>\n",
       "      <td>-0.003037</td>\n",
       "      <td>0.032521</td>\n",
       "    </tr>\n",
       "    <tr>\n",
       "      <th>2019-01-07 00:00:00-05:00</th>\n",
       "      <td>-0.002109</td>\n",
       "      <td>0.007884</td>\n",
       "    </tr>\n",
       "    <tr>\n",
       "      <th>2019-01-08 00:00:00-05:00</th>\n",
       "      <td>-0.000470</td>\n",
       "      <td>0.008844</td>\n",
       "    </tr>\n",
       "  </tbody>\n",
       "</table>\n",
       "</div>"
      ],
      "text/plain": [
       "                                AGG       SPY\n",
       "                              close     close\n",
       "time                                         \n",
       "2019-01-02 00:00:00-05:00       NaN       NaN\n",
       "2019-01-03 00:00:00-05:00  0.004081 -0.021730\n",
       "2019-01-04 00:00:00-05:00 -0.003037  0.032521\n",
       "2019-01-07 00:00:00-05:00 -0.002109  0.007884\n",
       "2019-01-08 00:00:00-05:00 -0.000470  0.008844"
      ]
     },
     "execution_count": 52,
     "metadata": {},
     "output_type": "execute_result"
    }
   ],
   "source": [
    "# Calculate the daily roi for the stocks\n",
    "daily_returns = df.pct_change()\n",
    "\n",
    "# Display sample data\n",
    "daily_returns.head()\n"
   ]
  },
  {
   "cell_type": "code",
   "execution_count": 53,
   "metadata": {},
   "outputs": [
    {
     "data": {
      "text/plain": [
       "0.007820053413439366"
      ]
     },
     "execution_count": 53,
     "metadata": {},
     "output_type": "execute_result"
    }
   ],
   "source": [
    "# Compute daily volatility \n",
    "\n",
    "avg_daily_return_agg = daily_returns.mean()[\"AGG\"][\"close\"]\n",
    "avg_daily_return_spy = daily_returns.mean()[\"SPY\"][\"close\"]\n",
    "\n",
    "std_dev_daily_return_agg = daily_returns.std()[\"AGG\"][\"close\"]\n",
    "std_dev_daily_return_spy = daily_returns.std()[\"SPY\"][\"close\"]\n",
    "std_dev_daily_return_spy"
   ]
  },
  {
   "cell_type": "code",
   "execution_count": 54,
   "metadata": {},
   "outputs": [
    {
     "data": {
      "text/plain": [
       "321.92"
      ]
     },
     "execution_count": 54,
     "metadata": {},
     "output_type": "execute_result"
    }
   ],
   "source": [
    "# Save the last day's closing price\n",
    "agg_last_price = df['AGG']['close'][-1]\n",
    "spy_last_price = df['SPY']['close'][-1]\n",
    "spy_last_price"
   ]
  },
  {
   "cell_type": "code",
   "execution_count": 55,
   "metadata": {},
   "outputs": [],
   "source": [
    "# Setup the Monte Carlo Parameters\n",
    "number_simulations = 500\n",
    "number_records = 252 * 30\n",
    "monte_carlo = pd.DataFrame()"
   ]
  },
  {
   "cell_type": "code",
   "execution_count": 56,
   "metadata": {},
   "outputs": [
    {
     "data": {
      "text/html": [
       "<div>\n",
       "<style scoped>\n",
       "    .dataframe tbody tr th:only-of-type {\n",
       "        vertical-align: middle;\n",
       "    }\n",
       "\n",
       "    .dataframe tbody tr th {\n",
       "        vertical-align: top;\n",
       "    }\n",
       "\n",
       "    .dataframe thead th {\n",
       "        text-align: right;\n",
       "    }\n",
       "</style>\n",
       "<table border=\"1\" class=\"dataframe\">\n",
       "  <thead>\n",
       "    <tr style=\"text-align: right;\">\n",
       "      <th></th>\n",
       "      <th>Simulation 1</th>\n",
       "      <th>Simulation 2</th>\n",
       "      <th>Simulation 3</th>\n",
       "      <th>Simulation 4</th>\n",
       "      <th>Simulation 5</th>\n",
       "      <th>Simulation 6</th>\n",
       "      <th>Simulation 7</th>\n",
       "      <th>Simulation 8</th>\n",
       "      <th>Simulation 9</th>\n",
       "      <th>Simulation 10</th>\n",
       "      <th>...</th>\n",
       "      <th>Simulation 491</th>\n",
       "      <th>Simulation 492</th>\n",
       "      <th>Simulation 493</th>\n",
       "      <th>Simulation 494</th>\n",
       "      <th>Simulation 495</th>\n",
       "      <th>Simulation 496</th>\n",
       "      <th>Simulation 497</th>\n",
       "      <th>Simulation 498</th>\n",
       "      <th>Simulation 499</th>\n",
       "      <th>Simulation 500</th>\n",
       "    </tr>\n",
       "  </thead>\n",
       "  <tbody>\n",
       "    <tr>\n",
       "      <th>0</th>\n",
       "      <td>1.000000</td>\n",
       "      <td>1.000000</td>\n",
       "      <td>1.000000</td>\n",
       "      <td>1.000000</td>\n",
       "      <td>1.000000</td>\n",
       "      <td>1.000000</td>\n",
       "      <td>1.000000</td>\n",
       "      <td>1.000000</td>\n",
       "      <td>1.000000</td>\n",
       "      <td>1.000000</td>\n",
       "      <td>...</td>\n",
       "      <td>1.000000</td>\n",
       "      <td>1.000000</td>\n",
       "      <td>1.000000</td>\n",
       "      <td>1.000000</td>\n",
       "      <td>1.000000</td>\n",
       "      <td>1.000000</td>\n",
       "      <td>1.000000</td>\n",
       "      <td>1.000000</td>\n",
       "      <td>1.000000</td>\n",
       "      <td>1.000000</td>\n",
       "    </tr>\n",
       "    <tr>\n",
       "      <th>1</th>\n",
       "      <td>1.000475</td>\n",
       "      <td>1.000537</td>\n",
       "      <td>0.998808</td>\n",
       "      <td>1.005395</td>\n",
       "      <td>1.011797</td>\n",
       "      <td>0.994452</td>\n",
       "      <td>0.997250</td>\n",
       "      <td>1.013277</td>\n",
       "      <td>1.000868</td>\n",
       "      <td>0.995376</td>\n",
       "      <td>...</td>\n",
       "      <td>1.002066</td>\n",
       "      <td>0.992709</td>\n",
       "      <td>1.001800</td>\n",
       "      <td>1.002671</td>\n",
       "      <td>0.996472</td>\n",
       "      <td>1.003160</td>\n",
       "      <td>1.001638</td>\n",
       "      <td>1.006801</td>\n",
       "      <td>0.998172</td>\n",
       "      <td>0.994766</td>\n",
       "    </tr>\n",
       "    <tr>\n",
       "      <th>2</th>\n",
       "      <td>1.008876</td>\n",
       "      <td>1.004700</td>\n",
       "      <td>1.003591</td>\n",
       "      <td>0.996711</td>\n",
       "      <td>1.009570</td>\n",
       "      <td>0.994247</td>\n",
       "      <td>0.994213</td>\n",
       "      <td>1.007201</td>\n",
       "      <td>1.000225</td>\n",
       "      <td>0.993035</td>\n",
       "      <td>...</td>\n",
       "      <td>1.005758</td>\n",
       "      <td>0.994517</td>\n",
       "      <td>1.003317</td>\n",
       "      <td>1.006181</td>\n",
       "      <td>0.997472</td>\n",
       "      <td>0.991774</td>\n",
       "      <td>1.002764</td>\n",
       "      <td>1.005409</td>\n",
       "      <td>0.996137</td>\n",
       "      <td>0.998871</td>\n",
       "    </tr>\n",
       "    <tr>\n",
       "      <th>3</th>\n",
       "      <td>1.008286</td>\n",
       "      <td>1.004228</td>\n",
       "      <td>1.003771</td>\n",
       "      <td>0.998233</td>\n",
       "      <td>1.007751</td>\n",
       "      <td>0.987669</td>\n",
       "      <td>0.998228</td>\n",
       "      <td>1.001363</td>\n",
       "      <td>1.000230</td>\n",
       "      <td>1.001277</td>\n",
       "      <td>...</td>\n",
       "      <td>1.006771</td>\n",
       "      <td>0.988443</td>\n",
       "      <td>1.004117</td>\n",
       "      <td>1.010565</td>\n",
       "      <td>0.993294</td>\n",
       "      <td>0.994454</td>\n",
       "      <td>1.008272</td>\n",
       "      <td>0.999144</td>\n",
       "      <td>0.998655</td>\n",
       "      <td>1.003329</td>\n",
       "    </tr>\n",
       "    <tr>\n",
       "      <th>4</th>\n",
       "      <td>1.013962</td>\n",
       "      <td>1.006575</td>\n",
       "      <td>1.008494</td>\n",
       "      <td>1.002636</td>\n",
       "      <td>1.013663</td>\n",
       "      <td>0.990972</td>\n",
       "      <td>1.003241</td>\n",
       "      <td>0.995493</td>\n",
       "      <td>1.002048</td>\n",
       "      <td>1.006035</td>\n",
       "      <td>...</td>\n",
       "      <td>1.004196</td>\n",
       "      <td>0.992122</td>\n",
       "      <td>1.004723</td>\n",
       "      <td>1.004422</td>\n",
       "      <td>0.994844</td>\n",
       "      <td>0.993782</td>\n",
       "      <td>1.005723</td>\n",
       "      <td>1.002248</td>\n",
       "      <td>0.996963</td>\n",
       "      <td>1.004095</td>\n",
       "    </tr>\n",
       "  </tbody>\n",
       "</table>\n",
       "<p>5 rows × 500 columns</p>\n",
       "</div>"
      ],
      "text/plain": [
       "   Simulation 1  Simulation 2  Simulation 3  Simulation 4  Simulation 5  \\\n",
       "0      1.000000      1.000000      1.000000      1.000000      1.000000   \n",
       "1      1.000475      1.000537      0.998808      1.005395      1.011797   \n",
       "2      1.008876      1.004700      1.003591      0.996711      1.009570   \n",
       "3      1.008286      1.004228      1.003771      0.998233      1.007751   \n",
       "4      1.013962      1.006575      1.008494      1.002636      1.013663   \n",
       "\n",
       "   Simulation 6  Simulation 7  Simulation 8  Simulation 9  Simulation 10  ...  \\\n",
       "0      1.000000      1.000000      1.000000      1.000000       1.000000  ...   \n",
       "1      0.994452      0.997250      1.013277      1.000868       0.995376  ...   \n",
       "2      0.994247      0.994213      1.007201      1.000225       0.993035  ...   \n",
       "3      0.987669      0.998228      1.001363      1.000230       1.001277  ...   \n",
       "4      0.990972      1.003241      0.995493      1.002048       1.006035  ...   \n",
       "\n",
       "   Simulation 491  Simulation 492  Simulation 493  Simulation 494  \\\n",
       "0        1.000000        1.000000        1.000000        1.000000   \n",
       "1        1.002066        0.992709        1.001800        1.002671   \n",
       "2        1.005758        0.994517        1.003317        1.006181   \n",
       "3        1.006771        0.988443        1.004117        1.010565   \n",
       "4        1.004196        0.992122        1.004723        1.004422   \n",
       "\n",
       "   Simulation 495  Simulation 496  Simulation 497  Simulation 498  \\\n",
       "0        1.000000        1.000000        1.000000        1.000000   \n",
       "1        0.996472        1.003160        1.001638        1.006801   \n",
       "2        0.997472        0.991774        1.002764        1.005409   \n",
       "3        0.993294        0.994454        1.008272        0.999144   \n",
       "4        0.994844        0.993782        1.005723        1.002248   \n",
       "\n",
       "   Simulation 499  Simulation 500  \n",
       "0        1.000000        1.000000  \n",
       "1        0.998172        0.994766  \n",
       "2        0.996137        0.998871  \n",
       "3        0.998655        1.003329  \n",
       "4        0.996963        1.004095  \n",
       "\n",
       "[5 rows x 500 columns]"
      ]
     },
     "execution_count": 56,
     "metadata": {},
     "output_type": "execute_result"
    }
   ],
   "source": [
    "# Run the Monte Carlo Simulation\n",
    "for n in range(number_simulations):\n",
    "    simulated_price_df = pd.DataFrame()\n",
    "   \n",
    "    # Initialize the simulated prices list with the last closing price of `AGG` and `SPY`\n",
    "    simulated_agg_prices = [agg_last_price]\n",
    "    simulated_spy_prices = [spy_last_price]\n",
    "    \n",
    "    # Simulate the returns for 252*30 days\n",
    "    for i in range(number_records):\n",
    "        \n",
    "        # Calculate the simulated price using the last price within the list\n",
    "        simulated_agg_price = simulated_agg_prices[-1] * (1 + np.random.normal(avg_daily_return_agg, std_dev_daily_return_agg))\n",
    "        simulated_spy_price = simulated_spy_prices[-1] * (1 + np.random.normal(avg_daily_return_spy, std_dev_daily_return_spy))\n",
    "        \n",
    "        # Append the simulated price to the list\n",
    "        simulated_agg_prices.append(simulated_agg_price)\n",
    "        simulated_spy_prices.append(simulated_spy_price)\n",
    "    \n",
    "    # Append a simulated prices of each simulation to DataFrame\n",
    "    simulated_price_df[\"AGG prices\"] = pd.Series(simulated_agg_prices)\n",
    "    simulated_price_df[\"SPY prices\"] = pd.Series(simulated_spy_prices)\n",
    "\n",
    "    # Calculate the daily returns of simulated prices\n",
    "    simulated_daily_returns = simulated_price_df.pct_change()\n",
    "\n",
    "    #print(simulated_daily_returns)\n",
    "    \n",
    "    # Set the portfolio weights (40% AGG; 60% SPY)\n",
    "    weights = [0.40, 0.60]\n",
    "\n",
    "    # Use the `dot` function with the weights to multiply weights with each column\"s simulated daily returns\n",
    "    portfolio_daily_returns = simulated_daily_returns.dot(weights)\n",
    "    \n",
    "    # Calculate the normalized, cumulative return series\n",
    "    monte_carlo[f\"Simulation {n+1}\"] = (1 + portfolio_daily_returns.fillna(0)).cumprod()\n",
    "\n",
    "# Print records from the DataFrame\n",
    "monte_carlo.head()"
   ]
  },
  {
   "cell_type": "code",
   "execution_count": 57,
   "metadata": {},
   "outputs": [
    {
     "data": {
      "image/png": "[encoded data removed]",
      "text/plain": [
       "<Figure size 432x288 with 1 Axes>"
      ]
     },
     "metadata": {
      "needs_background": "light"
     },
     "output_type": "display_data"
    }
   ],
   "source": [
    "# Visualize the Simulation\n",
    "monte_carlo.plot(legend=None, title=\"Simulated Retirement Portfolio\")\n",
    "plt.savefig('./Images/simulated_cumulative_returns.png')"
   ]
  },
  {
   "cell_type": "code",
   "execution_count": 58,
   "metadata": {},
   "outputs": [
    {
     "data": {
      "text/plain": [
       "Simulation 1    192.769939\n",
       "Simulation 2    171.963857\n",
       "Simulation 3    177.992293\n",
       "Simulation 4    138.460439\n",
       "Simulation 5    175.622694\n",
       "Name: 7560, dtype: float64"
      ]
     },
     "execution_count": 58,
     "metadata": {},
     "output_type": "execute_result"
    }
   ],
   "source": [
    "# Select the last row for the cumulative returns (cumulative returns at 30 years)\n",
    "ending_cumulative_returns = monte_carlo.iloc[-1, :]\n",
    "ending_cumulative_returns.head()"
   ]
  },
  {
   "cell_type": "code",
   "execution_count": 59,
   "metadata": {},
   "outputs": [
    {
     "data": {
      "text/plain": [
       "0.05    102.825245\n",
       "0.95    379.342101\n",
       "Name: 7560, dtype: float64"
      ]
     },
     "execution_count": 59,
     "metadata": {},
     "output_type": "execute_result"
    }
   ],
   "source": [
    "# Display the 90% confidence interval for the ending returns\n",
    "confidence_interval = ending_cumulative_returns.quantile(q=[0.05, 0.95])\n",
    "confidence_interval"
   ]
  },
  {
   "cell_type": "code",
   "execution_count": 60,
   "metadata": {},
   "outputs": [
    {
     "data": {
      "image/png": "[encoded data removed]",
      "text/plain": [
       "<Figure size 432x288 with 1 Axes>"
      ]
     },
     "metadata": {
      "needs_background": "light"
     },
     "output_type": "display_data"
    }
   ],
   "source": [
    "# Visualize the distribution of the ending returns\n",
    "plt.figure();\n",
    "ending_cumulative_returns.plot(kind=\"hist\", title = \"Cumulative returns histogram\", density=True, bins=50)\n",
    "plt.axvline(confidence_interval.iloc[0], color=\"r\")\n",
    "plt.axvline(confidence_interval.iloc[1], color=\"r\")\n",
    "plt.savefig('./Images/ending_returns_hist.png')"
   ]
  },
  {
   "cell_type": "markdown",
   "metadata": {},
   "source": [
    "---"
   ]
  },
  {
   "cell_type": "markdown",
   "metadata": {},
   "source": [
    "## Retirement Analysis\n",
    "\n",
    "In this section, you will use the monte carlo model to answer the following retirement planning questions:\n",
    "\n",
    "1. What are the expected cumulative returns at `30` years for the `10th`, `50th`, and `90th` percentiles?\n",
    "\n",
    "2. Given an initial investment of `$20,000`, what is the expected return in dollars at the `10th`, `50th`, and `90th` percentiles?\n",
    "\n",
    "3. Given the current projected annual income from the Plaid analysis, will a `4%` withdrawal rate meet or exceed that value at the `10th` percentile? Note: This is basically determining if retirement income is equivalent to current income.\n",
    "\n",
    "4. How would a `50%` increase in the initial investment amount affect the `4%` retirement withdrawal? In other words, what happens if the initial investment had been bigger?"
   ]
  },
  {
   "cell_type": "markdown",
   "metadata": {},
   "source": [
    "### What are the expected cumulative returns at 30 years for the 10th, 50th, and 90th percentiles?"
   ]
  },
  {
   "cell_type": "code",
   "execution_count": 61,
   "metadata": {},
   "outputs": [
    {
     "name": "stdout",
     "output_type": "stream",
     "text": [
      "Expected cumulative returns at 30 years for 10th, 50th and 90th percentiles: \n",
      "0.1    119.029858\n",
      "0.5    199.089970\n",
      "0.9    320.549831\n",
      "Name: 7560, dtype: float64\n"
     ]
    }
   ],
   "source": [
    "# Compute cumulative returns\n",
    "cumulative_returns_percentiles = ending_cumulative_returns.quantile(q=[0.1, 0.5, 0.90])\n",
    "print(f\"Expected cumulative returns at 30 years for 10th, 50th and 90th percentiles: \\n{cumulative_returns_percentiles}\")"
   ]
  },
  {
   "cell_type": "markdown",
   "metadata": {},
   "source": [
    "### Given an initial investment of `$20,000`, what is the expected portfolio return in dollars at the 10th, 50th, and 90th percentiles?"
   ]
  },
  {
   "cell_type": "code",
   "execution_count": 62,
   "metadata": {},
   "outputs": [
    {
     "data": {
      "text/plain": [
       "0.1    2380597\n",
       "0.5    3981799\n",
       "0.9    6410996\n",
       "Name: 7560, dtype: int64"
      ]
     },
     "execution_count": 62,
     "metadata": {},
     "output_type": "execute_result"
    }
   ],
   "source": [
    "# Set initial investment\n",
    "initial_investment = 20000\n",
    "\n",
    "# Compute expected portfolio return\n",
    "cumulative_pnl = initial_investment * cumulative_returns_percentiles\n",
    "cumulative_pnl.astype(int)"
   ]
  },
  {
   "cell_type": "markdown",
   "metadata": {},
   "source": [
    "### Given the current projected annual income from the Plaid analysis, will a 4% withdraw rate from the retirement portfolio meet or exceed that value at the 10th percentile?\n",
    "\n",
    "Note: This is effectively saying that 90% of the expected returns will be greater than the return at the 10th percentile, so this can help measure the uncertainty about having enough funds at retirement"
   ]
  },
  {
   "cell_type": "markdown",
   "metadata": {},
   "source": [
    "Given the current projected annual income from the Plaid analysis, will a 4% withdrawal rate meet or exceed that value at the 10th percentile? Note: This is basically determining if retirement income is equivalent to current income. To simplify this analysis, compare the Plaid projected annual income to first year retirement income. To conduct this analysis, multiple the ending return at the 10th percentile by the 4% withdrawal rate and compare it to the projected income."
   ]
  },
  {
   "cell_type": "code",
   "execution_count": 63,
   "metadata": {},
   "outputs": [
    {
     "name": "stdout",
     "output_type": "stream",
     "text": [
      "The 4% withdrawal at the 10th percentile is $95223, which is more than projected income of $7389, so there should be sufficient funds at retirement\n"
     ]
    }
   ],
   "source": [
    "# Set Plaid's projected income\n",
    "projected_income = 7389\n",
    "\n",
    "# Calculate the 4% withdrawal for the ending return as retirement income\n",
    "return_withdrawal = int(cumulative_pnl.iloc[0]*0.04)\n",
    "return_withdrawal \n",
    "# Determine if the retirement income meets or exceeds the current projected income\n",
    "if projected_income >= return_withdrawal:\n",
    "    print(f\"The 4% withdrawal at the 10th percentile is ${return_withdrawal}, which is less than projected income of ${projected_income}, so there will be too little funds by retirement\")\n",
    "else:\n",
    "    print(f\"The 4% withdrawal at the 10th percentile is ${return_withdrawal}, which is more than projected income of ${projected_income}, so there should be sufficient funds at retirement\")\n",
    "    "
   ]
  },
  {
   "cell_type": "markdown",
   "metadata": {},
   "source": [
    "### How would a 50% increase in the initial investment amount affect the 4% retirement withdrawal?"
   ]
  },
  {
   "cell_type": "code",
   "execution_count": 64,
   "metadata": {},
   "outputs": [
    {
     "name": "stdout",
     "output_type": "stream",
     "text": [
      "After an increased investment of 50%, the 4% withdrawal at the 10th percentile is $142835, which is more than projected income of $7389, so there should be sufficient funds at retirement\n"
     ]
    }
   ],
   "source": [
    "# Re-calculate the retirement income with a 50% increase in the initial investment amount\n",
    "increased_investment = initial_investment*1.5\n",
    "increased_investment\n",
    "\n",
    "# Calculate expected portfolio return with incresed investment amount\n",
    "increased_cumulative_pnl = increased_investment * cumulative_returns_percentiles\n",
    "\n",
    "# Calculate the 4% withdrawal for the ending return as retirement income\n",
    "return_withdrawal_increased = int(increased_cumulative_pnl.iloc[0]*0.04)\n",
    "return_withdrawal_increased\n",
    "\n",
    "# Determine if the retirement income meets or exceeds the current projected income\n",
    "if projected_income >= return_withdrawal_increased:\n",
    "    print(f\"After an increased investment of 50%, the 4% withdrawal at the 10th percentile is ${return_withdrawal_increased}, which is less than projected income of ${projected_income}, so there will be too little funds by retirement\")\n",
    "else:\n",
    "    print(f\"After an increased investment of 50%, the 4% withdrawal at the 10th percentile is ${return_withdrawal_increased}, which is more than projected income of ${projected_income}, so there should be sufficient funds at retirement\")\n",
    "    \n"
   ]
  },
  {
   "cell_type": "markdown",
   "metadata": {},
   "source": [
    "### Optional Challenge\n",
    "\n",
    "Use the Monte Carlo data and calculate the cumulative returns at the `5%`, `50%`, and `95%` quartiles and plot this data as a line chart to see how the cumulative returns change over the life of the investment.\n",
    "\n",
    "In this section, you need to calculate and plot the cumulative returns for the median and `90%` confidence intervals. This plot shows the expected cumulative returns for any given day between the first day and the last day of investment. "
   ]
  },
  {
   "cell_type": "code",
   "execution_count": 65,
   "metadata": {},
   "outputs": [
    {
     "data": {
      "text/html": [
       "<div>\n",
       "<style scoped>\n",
       "    .dataframe tbody tr th:only-of-type {\n",
       "        vertical-align: middle;\n",
       "    }\n",
       "\n",
       "    .dataframe tbody tr th {\n",
       "        vertical-align: top;\n",
       "    }\n",
       "\n",
       "    .dataframe thead th {\n",
       "        text-align: right;\n",
       "    }\n",
       "</style>\n",
       "<table border=\"1\" class=\"dataframe\">\n",
       "  <thead>\n",
       "    <tr style=\"text-align: right;\">\n",
       "      <th></th>\n",
       "      <th>0.05</th>\n",
       "      <th>0.5</th>\n",
       "      <th>0.95</th>\n",
       "    </tr>\n",
       "  </thead>\n",
       "  <tbody>\n",
       "    <tr>\n",
       "      <th>0</th>\n",
       "      <td>1.000000</td>\n",
       "      <td>1.000000</td>\n",
       "      <td>1.000000</td>\n",
       "    </tr>\n",
       "    <tr>\n",
       "      <th>1</th>\n",
       "      <td>0.992690</td>\n",
       "      <td>1.000784</td>\n",
       "      <td>1.008572</td>\n",
       "    </tr>\n",
       "    <tr>\n",
       "      <th>2</th>\n",
       "      <td>0.990438</td>\n",
       "      <td>1.001288</td>\n",
       "      <td>1.013288</td>\n",
       "    </tr>\n",
       "    <tr>\n",
       "      <th>3</th>\n",
       "      <td>0.989383</td>\n",
       "      <td>1.002329</td>\n",
       "      <td>1.015727</td>\n",
       "    </tr>\n",
       "    <tr>\n",
       "      <th>4</th>\n",
       "      <td>0.988242</td>\n",
       "      <td>1.002971</td>\n",
       "      <td>1.018309</td>\n",
       "    </tr>\n",
       "  </tbody>\n",
       "</table>\n",
       "</div>"
      ],
      "text/plain": [
       "       0.05      0.50      0.95\n",
       "0  1.000000  1.000000  1.000000\n",
       "1  0.992690  1.000784  1.008572\n",
       "2  0.990438  1.001288  1.013288\n",
       "3  0.989383  1.002329  1.015727\n",
       "4  0.988242  1.002971  1.018309"
      ]
     },
     "execution_count": 65,
     "metadata": {},
     "output_type": "execute_result"
    }
   ],
   "source": [
    "# Compute projected returns\n",
    "cum_returns_montecarlo = monte_carlo.quantile(q=[0.05, 0.5, 0.95],axis=1).T\n",
    "cum_returns_montecarlo.head()\n"
   ]
  },
  {
   "cell_type": "code",
   "execution_count": 66,
   "metadata": {},
   "outputs": [
    {
     "data": {
      "image/png": "[encoded data removed]",
      "text/plain": [
       "<Figure size 432x288 with 1 Axes>"
      ]
     },
     "metadata": {
      "needs_background": "light"
     },
     "output_type": "display_data"
    }
   ],
   "source": [
    "# Plot the cumulative returns over time\n",
    "cum_returns_montecarlo.plot(title=\"Cumulative Returns at 5%, 50% and 95% percentiles\")\n",
    "plt.savefig('./Images/cumulative_returns_percentile.png')"
   ]
  },
  {
   "cell_type": "markdown",
   "metadata": {},
   "source": [
    "Optional Challenge — Early Retirement - Up to 10 bonus points\n",
    "Harold is impressed with your work on this planner, but thinks that 30 years seems like a very long time to wait to retire! Harold wants to know if the retirement plan could be adjusted to retire earlier than normal. Try adjusting the portfolio to either include more risk (a higher stock than bond ratio), or to have a larger initial investment and then rerun the retirement analysis to see what it would take to retire in 5 years, instead of 30!\n"
   ]
  },
  {
   "cell_type": "code",
   "execution_count": 67,
   "metadata": {},
   "outputs": [
    {
     "data": {
      "text/html": [
       "<div>\n",
       "<style scoped>\n",
       "    .dataframe tbody tr th:only-of-type {\n",
       "        vertical-align: middle;\n",
       "    }\n",
       "\n",
       "    .dataframe tbody tr th {\n",
       "        vertical-align: top;\n",
       "    }\n",
       "\n",
       "    .dataframe thead th {\n",
       "        text-align: right;\n",
       "    }\n",
       "</style>\n",
       "<table border=\"1\" class=\"dataframe\">\n",
       "  <thead>\n",
       "    <tr style=\"text-align: right;\">\n",
       "      <th></th>\n",
       "      <th>Simulation 1</th>\n",
       "      <th>Simulation 2</th>\n",
       "      <th>Simulation 3</th>\n",
       "      <th>Simulation 4</th>\n",
       "      <th>Simulation 5</th>\n",
       "      <th>Simulation 6</th>\n",
       "      <th>Simulation 7</th>\n",
       "      <th>Simulation 8</th>\n",
       "      <th>Simulation 9</th>\n",
       "      <th>Simulation 10</th>\n",
       "      <th>...</th>\n",
       "      <th>Simulation 491</th>\n",
       "      <th>Simulation 492</th>\n",
       "      <th>Simulation 493</th>\n",
       "      <th>Simulation 494</th>\n",
       "      <th>Simulation 495</th>\n",
       "      <th>Simulation 496</th>\n",
       "      <th>Simulation 497</th>\n",
       "      <th>Simulation 498</th>\n",
       "      <th>Simulation 499</th>\n",
       "      <th>Simulation 500</th>\n",
       "    </tr>\n",
       "  </thead>\n",
       "  <tbody>\n",
       "    <tr>\n",
       "      <th>0</th>\n",
       "      <td>1.000000</td>\n",
       "      <td>1.000000</td>\n",
       "      <td>1.000000</td>\n",
       "      <td>1.000000</td>\n",
       "      <td>1.000000</td>\n",
       "      <td>1.000000</td>\n",
       "      <td>1.000000</td>\n",
       "      <td>1.000000</td>\n",
       "      <td>1.000000</td>\n",
       "      <td>1.000000</td>\n",
       "      <td>...</td>\n",
       "      <td>1.000000</td>\n",
       "      <td>1.000000</td>\n",
       "      <td>1.000000</td>\n",
       "      <td>1.000000</td>\n",
       "      <td>1.000000</td>\n",
       "      <td>1.000000</td>\n",
       "      <td>1.000000</td>\n",
       "      <td>1.000000</td>\n",
       "      <td>1.000000</td>\n",
       "      <td>1.000000</td>\n",
       "    </tr>\n",
       "    <tr>\n",
       "      <th>1</th>\n",
       "      <td>0.995821</td>\n",
       "      <td>0.998695</td>\n",
       "      <td>0.994540</td>\n",
       "      <td>1.000521</td>\n",
       "      <td>1.015239</td>\n",
       "      <td>1.013169</td>\n",
       "      <td>0.995657</td>\n",
       "      <td>1.000237</td>\n",
       "      <td>1.012691</td>\n",
       "      <td>1.015025</td>\n",
       "      <td>...</td>\n",
       "      <td>0.999038</td>\n",
       "      <td>1.008832</td>\n",
       "      <td>1.012546</td>\n",
       "      <td>1.004115</td>\n",
       "      <td>0.989734</td>\n",
       "      <td>0.995708</td>\n",
       "      <td>1.008351</td>\n",
       "      <td>1.002805</td>\n",
       "      <td>0.993172</td>\n",
       "      <td>0.996526</td>\n",
       "    </tr>\n",
       "    <tr>\n",
       "      <th>2</th>\n",
       "      <td>0.998935</td>\n",
       "      <td>0.999533</td>\n",
       "      <td>0.995809</td>\n",
       "      <td>1.006951</td>\n",
       "      <td>1.009884</td>\n",
       "      <td>1.009098</td>\n",
       "      <td>0.994405</td>\n",
       "      <td>0.996995</td>\n",
       "      <td>1.022218</td>\n",
       "      <td>1.009301</td>\n",
       "      <td>...</td>\n",
       "      <td>1.003519</td>\n",
       "      <td>1.008134</td>\n",
       "      <td>1.015714</td>\n",
       "      <td>1.017429</td>\n",
       "      <td>0.992970</td>\n",
       "      <td>0.987072</td>\n",
       "      <td>1.016098</td>\n",
       "      <td>1.000222</td>\n",
       "      <td>0.993233</td>\n",
       "      <td>1.011397</td>\n",
       "    </tr>\n",
       "    <tr>\n",
       "      <th>3</th>\n",
       "      <td>0.992694</td>\n",
       "      <td>0.997076</td>\n",
       "      <td>0.996671</td>\n",
       "      <td>1.008983</td>\n",
       "      <td>1.011681</td>\n",
       "      <td>1.016349</td>\n",
       "      <td>0.993168</td>\n",
       "      <td>0.999811</td>\n",
       "      <td>1.026386</td>\n",
       "      <td>1.007027</td>\n",
       "      <td>...</td>\n",
       "      <td>1.010475</td>\n",
       "      <td>1.008268</td>\n",
       "      <td>1.018012</td>\n",
       "      <td>1.012748</td>\n",
       "      <td>0.980711</td>\n",
       "      <td>0.997166</td>\n",
       "      <td>1.018560</td>\n",
       "      <td>0.994766</td>\n",
       "      <td>1.004354</td>\n",
       "      <td>1.017498</td>\n",
       "    </tr>\n",
       "    <tr>\n",
       "      <th>4</th>\n",
       "      <td>1.001914</td>\n",
       "      <td>0.993144</td>\n",
       "      <td>0.994094</td>\n",
       "      <td>1.013843</td>\n",
       "      <td>1.006192</td>\n",
       "      <td>1.025569</td>\n",
       "      <td>1.000681</td>\n",
       "      <td>0.988960</td>\n",
       "      <td>1.031041</td>\n",
       "      <td>1.011600</td>\n",
       "      <td>...</td>\n",
       "      <td>1.013117</td>\n",
       "      <td>1.022161</td>\n",
       "      <td>1.029327</td>\n",
       "      <td>1.021913</td>\n",
       "      <td>0.983185</td>\n",
       "      <td>1.007776</td>\n",
       "      <td>1.019915</td>\n",
       "      <td>0.994491</td>\n",
       "      <td>1.003237</td>\n",
       "      <td>1.013809</td>\n",
       "    </tr>\n",
       "  </tbody>\n",
       "</table>\n",
       "<p>5 rows × 500 columns</p>\n",
       "</div>"
      ],
      "text/plain": [
       "   Simulation 1  Simulation 2  Simulation 3  Simulation 4  Simulation 5  \\\n",
       "0      1.000000      1.000000      1.000000      1.000000      1.000000   \n",
       "1      0.995821      0.998695      0.994540      1.000521      1.015239   \n",
       "2      0.998935      0.999533      0.995809      1.006951      1.009884   \n",
       "3      0.992694      0.997076      0.996671      1.008983      1.011681   \n",
       "4      1.001914      0.993144      0.994094      1.013843      1.006192   \n",
       "\n",
       "   Simulation 6  Simulation 7  Simulation 8  Simulation 9  Simulation 10  ...  \\\n",
       "0      1.000000      1.000000      1.000000      1.000000       1.000000  ...   \n",
       "1      1.013169      0.995657      1.000237      1.012691       1.015025  ...   \n",
       "2      1.009098      0.994405      0.996995      1.022218       1.009301  ...   \n",
       "3      1.016349      0.993168      0.999811      1.026386       1.007027  ...   \n",
       "4      1.025569      1.000681      0.988960      1.031041       1.011600  ...   \n",
       "\n",
       "   Simulation 491  Simulation 492  Simulation 493  Simulation 494  \\\n",
       "0        1.000000        1.000000        1.000000        1.000000   \n",
       "1        0.999038        1.008832        1.012546        1.004115   \n",
       "2        1.003519        1.008134        1.015714        1.017429   \n",
       "3        1.010475        1.008268        1.018012        1.012748   \n",
       "4        1.013117        1.022161        1.029327        1.021913   \n",
       "\n",
       "   Simulation 495  Simulation 496  Simulation 497  Simulation 498  \\\n",
       "0        1.000000        1.000000        1.000000        1.000000   \n",
       "1        0.989734        0.995708        1.008351        1.002805   \n",
       "2        0.992970        0.987072        1.016098        1.000222   \n",
       "3        0.980711        0.997166        1.018560        0.994766   \n",
       "4        0.983185        1.007776        1.019915        0.994491   \n",
       "\n",
       "   Simulation 499  Simulation 500  \n",
       "0        1.000000        1.000000  \n",
       "1        0.993172        0.996526  \n",
       "2        0.993233        1.011397  \n",
       "3        1.004354        1.017498  \n",
       "4        1.003237        1.013809  \n",
       "\n",
       "[5 rows x 500 columns]"
      ]
     },
     "execution_count": 67,
     "metadata": {},
     "output_type": "execute_result"
    }
   ],
   "source": [
    "# Rerun Monte Carlo simulation with increased risk - AGG 25% and SPY 75%\n",
    "# Setup the Monte Carlo Parameters\n",
    "number_simulations = 500\n",
    "number_records = 252 * 30\n",
    "monte_carlo_high_risk = pd.DataFrame()\n",
    "\n",
    "# Run the Monte Carlo Simulation\n",
    "for n in range(number_simulations):\n",
    "    simulated_price_df = pd.DataFrame()\n",
    "   \n",
    "    # Initialize the simulated prices list with the last closing price of `AGG` and `SPY`\n",
    "    simulated_agg_prices = [agg_last_price]\n",
    "    simulated_spy_prices = [spy_last_price]\n",
    "    \n",
    "    # Simulate the returns for 252*30 days\n",
    "    for i in range(number_records):\n",
    "        \n",
    "        # Calculate the simulated price using the last price within the list\n",
    "        simulated_agg_price = simulated_agg_prices[-1] * (1 + np.random.normal(avg_daily_return_agg, std_dev_daily_return_agg))\n",
    "        simulated_spy_price = simulated_spy_prices[-1] * (1 + np.random.normal(avg_daily_return_spy, std_dev_daily_return_spy))\n",
    "        \n",
    "        # Append the simulated price to the list\n",
    "        simulated_agg_prices.append(simulated_agg_price)\n",
    "        simulated_spy_prices.append(simulated_spy_price)\n",
    "    \n",
    "    # Append a simulated prices of each simulation to DataFrame\n",
    "    simulated_price_df[\"AGG prices\"] = pd.Series(simulated_agg_prices)\n",
    "    simulated_price_df[\"SPY prices\"] = pd.Series(simulated_spy_prices)\n",
    "\n",
    "    # Calculate the daily returns of simulated prices\n",
    "    simulated_daily_returns = simulated_price_df.pct_change()\n",
    "\n",
    "    #print(simulated_daily_returns)\n",
    "    \n",
    "    # Set the portfolio weights (25% AGG; 75% SPY)\n",
    "    weights = [0.25, 0.75]\n",
    "\n",
    "    # Use the `dot` function with the weights to multiply weights with each column\"s simulated daily returns\n",
    "    portfolio_daily_returns = simulated_daily_returns.dot(weights)\n",
    "    \n",
    "    # Calculate the normalized, cumulative return series\n",
    "    monte_carlo_high_risk[f\"Simulation {n+1}\"] = (1 + portfolio_daily_returns.fillna(0)).cumprod()\n",
    "\n",
    "# Print records from the DataFrame\n",
    "monte_carlo_high_risk.head()"
   ]
  },
  {
   "cell_type": "code",
   "execution_count": 68,
   "metadata": {},
   "outputs": [
    {
     "data": {
      "text/plain": [
       "Simulation 1    406.906981\n",
       "Simulation 2    452.702249\n",
       "Simulation 3    207.008490\n",
       "Simulation 4    564.315182\n",
       "Simulation 5    220.162686\n",
       "Name: 7560, dtype: float64"
      ]
     },
     "execution_count": 68,
     "metadata": {},
     "output_type": "execute_result"
    }
   ],
   "source": [
    "# Select the last row for the cumulative returns (cumulative returns at 30 years)\n",
    "ending_cumul_ret_high_risk = monte_carlo_high_risk.iloc[-1, :]\n",
    "ending_cumul_ret_high_risk.head()"
   ]
  },
  {
   "cell_type": "code",
   "execution_count": 69,
   "metadata": {},
   "outputs": [
    {
     "data": {
      "text/plain": [
       "0.05     206.849495\n",
       "0.95    1078.183303\n",
       "Name: 7560, dtype: float64"
      ]
     },
     "execution_count": 69,
     "metadata": {},
     "output_type": "execute_result"
    }
   ],
   "source": [
    "# Display the 90% confidence interval for the ending returns\n",
    "confidence_interval_highrisk = ending_cumul_ret_high_risk.quantile(q=[0.05, 0.95])\n",
    "confidence_interval_highrisk"
   ]
  },
  {
   "cell_type": "code",
   "execution_count": 70,
   "metadata": {},
   "outputs": [
    {
     "name": "stdout",
     "output_type": "stream",
     "text": [
      "Expected cumulative returns for high risk portfolio at 30 years for 10th, 50th and 90th percentiles: \n",
      "0.1    239.524448\n",
      "0.5    482.177382\n",
      "0.9    927.725184\n",
      "Name: 7560, dtype: float64\n"
     ]
    }
   ],
   "source": [
    "# Compute cumulative returns\n",
    "cumul_ret_percentiles_high_risk = ending_cumul_ret_high_risk.quantile(q=[0.1, 0.5, 0.90])\n",
    "print(f\"Expected cumulative returns for high risk portfolio at 30 years for 10th, 50th and 90th percentiles: \\n{cumul_ret_percentiles_high_risk}\")"
   ]
  },
  {
   "cell_type": "code",
   "execution_count": 71,
   "metadata": {},
   "outputs": [
    {
     "data": {
      "text/plain": [
       "0.1     4790488\n",
       "0.5     9643547\n",
       "0.9    18554503\n",
       "Name: 7560, dtype: int64"
      ]
     },
     "execution_count": 71,
     "metadata": {},
     "output_type": "execute_result"
    }
   ],
   "source": [
    "# Set initial investment\n",
    "initial_investment = 20000\n",
    "\n",
    "# Compute expected portfolio return\n",
    "cumulative_pnl_high_risk = initial_investment * cumul_ret_percentiles_high_risk\n",
    "cumulative_pnl_high_risk.astype(int)\n"
   ]
  },
  {
   "cell_type": "code",
   "execution_count": 72,
   "metadata": {},
   "outputs": [],
   "source": [
    "# Determine if he can retire in 5 years instead of 30.\n",
    "\n",
    "# Setup the Monte Carlo Parameters\n",
    "number_simulations = 500\n",
    "number_records_5yr = 252 * 5\n",
    "monte_carlo_5year = pd.DataFrame()\n"
   ]
  },
  {
   "cell_type": "code",
   "execution_count": 73,
   "metadata": {},
   "outputs": [
    {
     "data": {
      "text/html": [
       "<div>\n",
       "<style scoped>\n",
       "    .dataframe tbody tr th:only-of-type {\n",
       "        vertical-align: middle;\n",
       "    }\n",
       "\n",
       "    .dataframe tbody tr th {\n",
       "        vertical-align: top;\n",
       "    }\n",
       "\n",
       "    .dataframe thead th {\n",
       "        text-align: right;\n",
       "    }\n",
       "</style>\n",
       "<table border=\"1\" class=\"dataframe\">\n",
       "  <thead>\n",
       "    <tr style=\"text-align: right;\">\n",
       "      <th></th>\n",
       "      <th>Simulation 1</th>\n",
       "      <th>Simulation 2</th>\n",
       "      <th>Simulation 3</th>\n",
       "      <th>Simulation 4</th>\n",
       "      <th>Simulation 5</th>\n",
       "      <th>Simulation 6</th>\n",
       "      <th>Simulation 7</th>\n",
       "      <th>Simulation 8</th>\n",
       "      <th>Simulation 9</th>\n",
       "      <th>Simulation 10</th>\n",
       "      <th>...</th>\n",
       "      <th>Simulation 491</th>\n",
       "      <th>Simulation 492</th>\n",
       "      <th>Simulation 493</th>\n",
       "      <th>Simulation 494</th>\n",
       "      <th>Simulation 495</th>\n",
       "      <th>Simulation 496</th>\n",
       "      <th>Simulation 497</th>\n",
       "      <th>Simulation 498</th>\n",
       "      <th>Simulation 499</th>\n",
       "      <th>Simulation 500</th>\n",
       "    </tr>\n",
       "  </thead>\n",
       "  <tbody>\n",
       "    <tr>\n",
       "      <th>0</th>\n",
       "      <td>1.000000</td>\n",
       "      <td>1.000000</td>\n",
       "      <td>1.000000</td>\n",
       "      <td>1.000000</td>\n",
       "      <td>1.000000</td>\n",
       "      <td>1.000000</td>\n",
       "      <td>1.000000</td>\n",
       "      <td>1.000000</td>\n",
       "      <td>1.000000</td>\n",
       "      <td>1.000000</td>\n",
       "      <td>...</td>\n",
       "      <td>1.000000</td>\n",
       "      <td>1.000000</td>\n",
       "      <td>1.000000</td>\n",
       "      <td>1.000000</td>\n",
       "      <td>1.000000</td>\n",
       "      <td>1.000000</td>\n",
       "      <td>1.000000</td>\n",
       "      <td>1.000000</td>\n",
       "      <td>1.000000</td>\n",
       "      <td>1.000000</td>\n",
       "    </tr>\n",
       "    <tr>\n",
       "      <th>1</th>\n",
       "      <td>1.008278</td>\n",
       "      <td>1.002484</td>\n",
       "      <td>1.006627</td>\n",
       "      <td>1.004119</td>\n",
       "      <td>0.999590</td>\n",
       "      <td>1.009831</td>\n",
       "      <td>0.991569</td>\n",
       "      <td>0.996898</td>\n",
       "      <td>1.011540</td>\n",
       "      <td>1.001344</td>\n",
       "      <td>...</td>\n",
       "      <td>1.000758</td>\n",
       "      <td>0.995751</td>\n",
       "      <td>1.007028</td>\n",
       "      <td>0.996641</td>\n",
       "      <td>1.004561</td>\n",
       "      <td>1.005671</td>\n",
       "      <td>0.991163</td>\n",
       "      <td>1.000266</td>\n",
       "      <td>1.004269</td>\n",
       "      <td>1.000582</td>\n",
       "    </tr>\n",
       "    <tr>\n",
       "      <th>2</th>\n",
       "      <td>1.011756</td>\n",
       "      <td>0.997370</td>\n",
       "      <td>1.005422</td>\n",
       "      <td>1.005926</td>\n",
       "      <td>1.003811</td>\n",
       "      <td>1.018164</td>\n",
       "      <td>0.994497</td>\n",
       "      <td>0.997744</td>\n",
       "      <td>1.007377</td>\n",
       "      <td>0.999015</td>\n",
       "      <td>...</td>\n",
       "      <td>0.993503</td>\n",
       "      <td>1.000635</td>\n",
       "      <td>1.010459</td>\n",
       "      <td>0.999458</td>\n",
       "      <td>1.009225</td>\n",
       "      <td>1.009523</td>\n",
       "      <td>0.991271</td>\n",
       "      <td>1.003119</td>\n",
       "      <td>1.003121</td>\n",
       "      <td>1.016664</td>\n",
       "    </tr>\n",
       "    <tr>\n",
       "      <th>3</th>\n",
       "      <td>1.010260</td>\n",
       "      <td>0.991699</td>\n",
       "      <td>1.004429</td>\n",
       "      <td>1.006577</td>\n",
       "      <td>1.022143</td>\n",
       "      <td>1.022449</td>\n",
       "      <td>0.995614</td>\n",
       "      <td>1.009615</td>\n",
       "      <td>1.003409</td>\n",
       "      <td>0.991984</td>\n",
       "      <td>...</td>\n",
       "      <td>0.980871</td>\n",
       "      <td>0.996437</td>\n",
       "      <td>1.009004</td>\n",
       "      <td>1.002212</td>\n",
       "      <td>1.012165</td>\n",
       "      <td>1.008614</td>\n",
       "      <td>0.994387</td>\n",
       "      <td>1.007325</td>\n",
       "      <td>1.005326</td>\n",
       "      <td>1.012088</td>\n",
       "    </tr>\n",
       "    <tr>\n",
       "      <th>4</th>\n",
       "      <td>1.014036</td>\n",
       "      <td>0.989250</td>\n",
       "      <td>1.009503</td>\n",
       "      <td>1.014333</td>\n",
       "      <td>1.031463</td>\n",
       "      <td>1.032029</td>\n",
       "      <td>0.987521</td>\n",
       "      <td>1.019244</td>\n",
       "      <td>1.004183</td>\n",
       "      <td>0.997695</td>\n",
       "      <td>...</td>\n",
       "      <td>0.987234</td>\n",
       "      <td>0.991189</td>\n",
       "      <td>1.011176</td>\n",
       "      <td>1.011511</td>\n",
       "      <td>1.002752</td>\n",
       "      <td>1.004349</td>\n",
       "      <td>1.000073</td>\n",
       "      <td>0.999925</td>\n",
       "      <td>1.006393</td>\n",
       "      <td>1.021239</td>\n",
       "    </tr>\n",
       "  </tbody>\n",
       "</table>\n",
       "<p>5 rows × 500 columns</p>\n",
       "</div>"
      ],
      "text/plain": [
       "   Simulation 1  Simulation 2  Simulation 3  Simulation 4  Simulation 5  \\\n",
       "0      1.000000      1.000000      1.000000      1.000000      1.000000   \n",
       "1      1.008278      1.002484      1.006627      1.004119      0.999590   \n",
       "2      1.011756      0.997370      1.005422      1.005926      1.003811   \n",
       "3      1.010260      0.991699      1.004429      1.006577      1.022143   \n",
       "4      1.014036      0.989250      1.009503      1.014333      1.031463   \n",
       "\n",
       "   Simulation 6  Simulation 7  Simulation 8  Simulation 9  Simulation 10  ...  \\\n",
       "0      1.000000      1.000000      1.000000      1.000000       1.000000  ...   \n",
       "1      1.009831      0.991569      0.996898      1.011540       1.001344  ...   \n",
       "2      1.018164      0.994497      0.997744      1.007377       0.999015  ...   \n",
       "3      1.022449      0.995614      1.009615      1.003409       0.991984  ...   \n",
       "4      1.032029      0.987521      1.019244      1.004183       0.997695  ...   \n",
       "\n",
       "   Simulation 491  Simulation 492  Simulation 493  Simulation 494  \\\n",
       "0        1.000000        1.000000        1.000000        1.000000   \n",
       "1        1.000758        0.995751        1.007028        0.996641   \n",
       "2        0.993503        1.000635        1.010459        0.999458   \n",
       "3        0.980871        0.996437        1.009004        1.002212   \n",
       "4        0.987234        0.991189        1.011176        1.011511   \n",
       "\n",
       "   Simulation 495  Simulation 496  Simulation 497  Simulation 498  \\\n",
       "0        1.000000        1.000000        1.000000        1.000000   \n",
       "1        1.004561        1.005671        0.991163        1.000266   \n",
       "2        1.009225        1.009523        0.991271        1.003119   \n",
       "3        1.012165        1.008614        0.994387        1.007325   \n",
       "4        1.002752        1.004349        1.000073        0.999925   \n",
       "\n",
       "   Simulation 499  Simulation 500  \n",
       "0        1.000000        1.000000  \n",
       "1        1.004269        1.000582  \n",
       "2        1.003121        1.016664  \n",
       "3        1.005326        1.012088  \n",
       "4        1.006393        1.021239  \n",
       "\n",
       "[5 rows x 500 columns]"
      ]
     },
     "execution_count": 73,
     "metadata": {},
     "output_type": "execute_result"
    }
   ],
   "source": [
    "# Run the Monte Carlo Simulation for 5 years\n",
    "for n in range(number_simulations):\n",
    "    simulated_price_df = pd.DataFrame()\n",
    "   \n",
    "    # Initialize the simulated prices list with the last closing price of `AGG` and `SPY`\n",
    "    simulated_agg_prices = [agg_last_price]\n",
    "    simulated_spy_prices = [spy_last_price]\n",
    "    \n",
    "    # Simulate the returns for 252*5 days\n",
    "    for i in range(number_records_5yr):\n",
    "        \n",
    "        # Calculate the simulated price using the last price within the list\n",
    "        simulated_agg_price = simulated_agg_prices[-1] * (1 + np.random.normal(avg_daily_return_agg, std_dev_daily_return_agg))\n",
    "        simulated_spy_price = simulated_spy_prices[-1] * (1 + np.random.normal(avg_daily_return_spy, std_dev_daily_return_spy))\n",
    "        \n",
    "        # Append the simulated price to the list\n",
    "        simulated_agg_prices.append(simulated_agg_price)\n",
    "        simulated_spy_prices.append(simulated_spy_price)\n",
    "    \n",
    "    # Append a simulated prices of each simulation to DataFrame\n",
    "    simulated_price_df[\"AGG prices\"] = pd.Series(simulated_agg_prices)\n",
    "    simulated_price_df[\"SPY prices\"] = pd.Series(simulated_spy_prices)\n",
    "\n",
    "    # Calculate the daily returns of simulated prices\n",
    "    simulated_daily_returns = simulated_price_df.pct_change()\n",
    "\n",
    "    #print(simulated_daily_returns)\n",
    "    \n",
    "    # Set the portfolio weights (25% AGG; 75% SPY)\n",
    "    weights = [0.25, 0.75]\n",
    "\n",
    "    # Use the `dot` function with the weights to multiply weights with each column\"s simulated daily returns\n",
    "    portfolio_daily_returns = simulated_daily_returns.dot(weights)\n",
    "    \n",
    "    # Calculate the normalized, cumulative return series\n",
    "    monte_carlo_5year[f\"Simulation {n+1}\"] = (1 + portfolio_daily_returns.fillna(0)).cumprod()\n",
    "\n",
    "# Print records from the DataFrame\n",
    "monte_carlo_5year.head()"
   ]
  },
  {
   "cell_type": "code",
   "execution_count": 74,
   "metadata": {},
   "outputs": [
    {
     "data": {
      "text/plain": [
       "Simulation 1    3.167855\n",
       "Simulation 2    3.008952\n",
       "Simulation 3    3.918938\n",
       "Simulation 4    2.597101\n",
       "Simulation 5    3.376032\n",
       "Name: 1260, dtype: float64"
      ]
     },
     "execution_count": 74,
     "metadata": {},
     "output_type": "execute_result"
    }
   ],
   "source": [
    "# Select the last row for the cumulative returns (cumulative returns at 30 years)\n",
    "ending_cumul_ret_5year = monte_carlo_5year.iloc[-1, :]\n",
    "ending_cumul_ret_5year.head()"
   ]
  },
  {
   "cell_type": "code",
   "execution_count": 75,
   "metadata": {},
   "outputs": [
    {
     "name": "stdout",
     "output_type": "stream",
     "text": [
      "Expected cumulative returns for high risk portfolio at 5 years for 10th, 50th and 90th percentiles: \n",
      "0.1    239.524448\n",
      "0.5    482.177382\n",
      "0.9    927.725184\n",
      "Name: 7560, dtype: float64\n"
     ]
    }
   ],
   "source": [
    "# Compute cumulative returns for 10, 50 and 90 percentile\n",
    "cumul_ret_percentiles_5year = ending_cumul_ret_5year.quantile(q=[0.1, 0.5, 0.90])\n",
    "print(f\"Expected cumulative returns for high risk portfolio at 5 years for 10th, 50th and 90th percentiles: \\n{cumul_ret_percentiles_high_risk}\")"
   ]
  },
  {
   "cell_type": "code",
   "execution_count": 76,
   "metadata": {},
   "outputs": [
    {
     "data": {
      "text/plain": [
       "0.05    1.992925\n",
       "0.95    3.954967\n",
       "Name: 1260, dtype: float64"
      ]
     },
     "execution_count": 76,
     "metadata": {},
     "output_type": "execute_result"
    }
   ],
   "source": [
    "# Display the 90% confidence interval for the ending returns\n",
    "confidence_interval_5year = ending_cumul_ret_5year.quantile(q=[0.05, 0.95])\n",
    "confidence_interval_5year"
   ]
  },
  {
   "cell_type": "code",
   "execution_count": 77,
   "metadata": {},
   "outputs": [
    {
     "data": {
      "text/plain": [
       "0.1    44114\n",
       "0.5    56937\n",
       "0.9    73078\n",
       "Name: 1260, dtype: int64"
      ]
     },
     "execution_count": 77,
     "metadata": {},
     "output_type": "execute_result"
    }
   ],
   "source": [
    "# Set initial investment\n",
    "initial_investment_5year = 20000\n",
    "\n",
    "# Compute expected portfolio return\n",
    "cumulative_pnl_5year = initial_investment_5year * cumul_ret_percentiles_5year\n",
    "cumulative_pnl_5year.astype(int)"
   ]
  },
  {
   "cell_type": "code",
   "execution_count": 78,
   "metadata": {},
   "outputs": [
    {
     "name": "stdout",
     "output_type": "stream",
     "text": [
      "The 4% withdrawal at the 10th percentile is $1764, which is less than projected income of $7389, so there will be too little funds to retire in 5 years\n"
     ]
    }
   ],
   "source": [
    "# Set Plaid's projected income\n",
    "projected_income = 7389\n",
    "\n",
    "# Calculate the 4% withdrawal for the ending return as retirement income\n",
    "return_withdrawal_5year = int(cumulative_pnl_5year.iloc[0]*0.04)\n",
    "return_withdrawal_5year \n",
    "# Determine if the retirement income meets or exceeds the current projected income\n",
    "if projected_income >= return_withdrawal_5year:\n",
    "    print(f\"The 4% withdrawal at the 10th percentile is ${return_withdrawal_5year}, which is less than projected income of ${projected_income}, so there will be too little funds to retire in 5 years\")\n",
    "else:\n",
    "    print(f\"The 4% withdrawal at the 10th percentile is ${return_withdrawal_5year}, which is more than projected income of ${projected_income}, so it would be possible to retire at years with an initial investment of {initial_investment_5year}\")\n",
    "    "
   ]
  },
  {
   "cell_type": "code",
   "execution_count": 79,
   "metadata": {},
   "outputs": [
    {
     "data": {
      "text/plain": [
       "0.1    220574\n",
       "0.5    284686\n",
       "0.9    365393\n",
       "Name: 1260, dtype: int64"
      ]
     },
     "execution_count": 79,
     "metadata": {},
     "output_type": "execute_result"
    }
   ],
   "source": [
    "# Set initial investment\n",
    "initial_investment_5year = 100000\n",
    "\n",
    "# Compute expected portfolio return\n",
    "cumulative_pnl_5year = initial_investment_5year * cumul_ret_percentiles_5year\n",
    "cumulative_pnl_5year.astype(int)"
   ]
  },
  {
   "cell_type": "code",
   "execution_count": 81,
   "metadata": {},
   "outputs": [
    {
     "name": "stdout",
     "output_type": "stream",
     "text": [
      "The 4% withdrawal at the 10th percentile is $8822, which is more than projected income of $7389, so it would be possible to retire at 5 years with an initial investment of $100000\n"
     ]
    }
   ],
   "source": [
    "# Set Plaid's projected income\n",
    "projected_income = 7389\n",
    "\n",
    "# Calculate the 4% withdrawal for the ending return as retirement income\n",
    "return_withdrawal_5year = int(cumulative_pnl_5year.iloc[0]*0.04)\n",
    "return_withdrawal_5year \n",
    "# Determine if the retirement income meets or exceeds the current projected income\n",
    "if projected_income >= return_withdrawal_5year:\n",
    "    print(f\"The 4% withdrawal at the 10th percentile is ${return_withdrawal_5year}, which is less than projected income of ${projected_income}, so there will be too little funds to retire in 5 years\")\n",
    "else:\n",
    "    print(f\"The 4% withdrawal at the 10th percentile is ${return_withdrawal_5year}, which is more than projected income of ${projected_income}, so it would be possible to retire at 5 years with an initial investment of ${initial_investment_5year}\")\n",
    "    "
   ]
  },
  {
   "cell_type": "code",
   "execution_count": null,
   "metadata": {},
   "outputs": [],
   "source": []
  }
 ],
 "metadata": {
  "kernelspec": {
   "display_name": "Python [conda env:dev] *",
   "language": "python",
   "name": "conda-env-dev-py"
  },
  "language_info": {
   "codemirror_mode": {
    "name": "ipython",
    "version": 3
   },
   "file_extension": ".py",
   "mimetype": "text/x-python",
   "name": "python",
   "nbconvert_exporter": "python",
   "pygments_lexer": "ipython3",
   "version": "3.7.7"
  }
 },
 "nbformat": 4,
 "nbformat_minor": 4
}
